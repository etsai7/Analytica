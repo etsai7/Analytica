{
 "cells": [
  {
   "cell_type": "markdown",
   "id": "44b22c1990683a8d",
   "metadata": {},
   "source": [
    "## Fidelity Dividend Tool\n",
    "\n",
    "### Setup\n",
    "1. Download transaction and activities as a `.csv` file from Fidelity. Recommended filtering for only Dividend Events\n",
    "2. Move to the `Data/CSV/Fidelity/Dividends` folder\n",
    "3. Make sure the downloaded csv file ends in `*-Dividends.csv` i.e. `2024-Dividends.csv`"
   ]
  },
  {
   "cell_type": "code",
   "execution_count": null,
   "id": "initial_id",
   "metadata": {},
   "outputs": [],
   "source": [
    "import os\n",
    "import pandas as pd\n",
    "\n",
    "# Configure width of display for pandas data frame\n",
    "pd.set_option('display.width', 400)\n",
    "# Configure maximum columns shown\n",
    "pd.set_option('display.max_columns', 15)\n",
    "# Do not limit number of rows displayed, allows scroll\n",
    "pd.set_option(\"display.max_rows\", None)\n",
    "\n",
    "# Create a folder called Data at the root of this project\n",
    "base_path = '../Data'\n",
    "column_converters = {'Run Date': pd.to_datetime,\n",
    "                     'Account': str,\n",
    "                     'Action': str,\n",
    "                     'Symbol': str,\n",
    "                     'Description': str,\n",
    "                     'Type': str,\n",
    "                     'Amount': float\n",
    "                     }\n",
    "print_columns = ['Run Date', 'Symbol', 'Amount']"
   ]
  },
  {
   "cell_type": "markdown",
   "id": "bcaa3729187a5cf1",
   "metadata": {},
   "source": [
    "## Read in CSV Files\n",
    "Read in the CSV files under `Data/Fidelity/Dividends` to combine into a single data frame for further processing.\n",
    "Clean up by removing the account no."
   ]
  },
  {
   "cell_type": "code",
   "execution_count": null,
   "id": "5b990815a02ce6e8",
   "metadata": {},
   "outputs": [],
   "source": [
    "# Main Data frame, empty by default\n",
    "data = pd.DataFrame()\n",
    "\n",
    "for root, dirs, files in os.walk(base_path):\n",
    "    for file in files:\n",
    "        if 'Dividends' in root and '-Dividends.csv' in file:\n",
    "            file_path = os.path.join(root, file)\n",
    "            # Read in csv data with the inferred data type and specified columns\n",
    "            df_raw = pd.read_csv(file_path, converters=column_converters, usecols=lambda cols: cols in column_converters.keys())\n",
    "            # Remove the Account number - .str is needed because it's working with a Series data type\n",
    "            df_raw['Account'] = df_raw['Account'].str.rsplit(' ', n=1).str[0]\n",
    "            # Append to data\n",
    "            data = pd.concat([data, df_raw], ignore_index=True)\n",
    "            print(file_path)\n",
    "            \n",
    "print(data)"
   ]
  },
  {
   "cell_type": "markdown",
   "id": "77ba5b31f10fc78e",
   "metadata": {},
   "source": [
    "## Dividends Received Grouped By Run Date + Symbol\n",
    "Filter for only Dividends received and combine the amounts if matching date and symbol"
   ]
  },
  {
   "cell_type": "code",
   "execution_count": null,
   "id": "ba2765cf3968ef81",
   "metadata": {},
   "outputs": [],
   "source": [
    "dividends_data = pd.DataFrame(data)\n",
    "dividends_received_by_symbol = dividends_data[dividends_data['Action'].str.contains('DIVIDEND RECEIVED', case=False, na=False)]\n",
    "\n",
    "dividends_received = (dividends_received_by_symbol\n",
    "                      .groupby(['Run Date', 'Symbol'], as_index=False)\n",
    "                      .sum())\n",
    "\n",
    "print(dividends_received[print_columns])"
   ]
  },
  {
   "cell_type": "markdown",
   "id": "28fa9dccd2ab92e5",
   "metadata": {},
   "source": [
    "## Dividends Received Grouped By Run Date (Year-Month) + Account\n",
    "Filter for only Dividends received and combine the amounts if matching date and symbol"
   ]
  },
  {
   "cell_type": "code",
   "execution_count": null,
   "id": "1f6b9931d99f63cd",
   "metadata": {},
   "outputs": [],
   "source": [
    "dividends_data = pd.DataFrame(data)\n",
    "# dividends_data['Run Date'] = pd.to_datetime(dividends_data['Run Date'])\n",
    "# Copy was explicitly used to avoid the warning when adding the ''Year-Month' that it would affect the original\n",
    "dividends_received_by_account = dividends_data[dividends_data['Action'].str.contains('DIVIDEND RECEIVED', case=False, na=False)].copy()\n",
    "\n",
    "dividends_received_by_account.loc[:,'Year-Month'] = dividends_received_by_account['Run Date'].dt.to_period('M')\n",
    "\n",
    "dividends_received_by_account = (dividends_received_by_account\n",
    "                                 .groupby(['Year-Month', 'Account'], as_index=False)['Amount']\n",
    "                                 .sum())\n",
    "print(dividends_received_by_account[['Year-Month', 'Account', 'Amount']])\n"
   ]
  }
 ],
 "metadata": {
  "kernelspec": {
   "display_name": "Python 3",
   "language": "python",
   "name": "python3"
  },
  "language_info": {
   "codemirror_mode": {
    "name": "ipython",
    "version": 2
   },
   "file_extension": ".py",
   "mimetype": "text/x-python",
   "name": "python",
   "nbconvert_exporter": "python",
   "pygments_lexer": "ipython2",
   "version": "2.7.6"
  }
 },
 "nbformat": 4,
 "nbformat_minor": 5
}
