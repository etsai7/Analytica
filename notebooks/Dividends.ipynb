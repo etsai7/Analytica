{
 "cells": [
  {
   "metadata": {},
   "cell_type": "markdown",
   "source": [
    "## Dividend Tool\n",
    "\n",
    "### Setup\n",
    "1. Download transaction and activities as a `.csv` file from the Provider. Recommended filtering for only Dividend Events\n",
    "    - Fidelity - Clean up top rows\n",
    "    - Merrill - Clean up top rows and remove Bottom \n",
    "2. Move to the `Data/CSV/Dividends/{Year}` folder\n",
    "3. Make sure the downloaded csv file ends in `*-Dividends.csv` i.e. `2024-Dividends.csv`\n",
    "\n",
    "### Final Format\n",
    "|       Date | Provider |    Account |              Action | Symbol | Amount |\n",
    "|-----------:|---------:|-----------:|--------------------:|-------:|-------:|\n",
    "| 05/30/2024 | Fidelity |      Index |   Dividend Received |    QQM |   2.00 |\n",
    "| 05/30/2024 |  Merrill |   CMA-Edge | Dividend Reinvested |    VOO |   4.35 |\n",
    "| 05/30/2024 | Fidelity | Individual |   Dividend Received |    VTI |   23.5 |"
   ],
   "id": "44b22c1990683a8d"
  },
  {
   "cell_type": "code",
   "id": "initial_id",
   "metadata": {},
   "source": [
    "import os\n",
    "import pandas as pd\n",
    "\n",
    "# Configure width of display for pandas data frame\n",
    "pd.set_option('display.width', 400)\n",
    "# Configure maximum columns shown\n",
    "pd.set_option('display.max_columns', 15)\n",
    "# Do not limit number of rows displayed, allows scroll\n",
    "pd.set_option(\"display.max_rows\", None)\n",
    "\n",
    "# Create a folder called Data at the root of this project\n",
    "base_path = '../Data'\n",
    "fidelity_col_converters = {'Run Date': pd.to_datetime,\n",
    "                     'Account': str.strip,\n",
    "                     'Action': str.strip,\n",
    "                     'Symbol': str.strip,\n",
    "                     'Amount': float\n",
    "                     }\n",
    "\n",
    "merrill_col_converters = {'Trade Date': pd.to_datetime,\n",
    "                          'Account': str.strip,\n",
    "                          'Description': str.strip,\n",
    "                          'Symbol': str.strip,\n",
    "                          'Amount': str.strip\n",
    "                          }\n",
    "\n",
    "# Constants\n",
    "DIVIDEND_RECEIVED = 'Dividend Received'\n",
    "DIVIDEND_REINVESTMENT = 'Dividend Reinvestment'\n",
    "DATE_COL = 'Date'\n",
    "ACTION_COL = 'Action'\n",
    "AMOUNT_COL = 'Amount'\n",
    "ACCOUNT_COL = 'Account'\n",
    "SYMBOL_COL = 'Symbol'\n",
    "PROVIDER_COL = 'Provider'"
   ],
   "outputs": [],
   "execution_count": null
  },
  {
   "metadata": {},
   "cell_type": "markdown",
   "source": "## Fidelity CSV PreProcessing Handler",
   "id": "3eea2e7899725eca"
  },
  {
   "metadata": {},
   "cell_type": "code",
   "source": [
    "def preprocess_fidelity(main_data: pd.DataFrame, fidelity_file_path: str) -> pd.DataFrame:\n",
    "    # Read in csv data with the inferred data type and specified columns\n",
    "    df = pd.read_csv(file_path, converters=fidelity_col_converters, usecols=lambda cols: cols in fidelity_col_converters.keys())\n",
    "    \n",
    "    # Rename \"Run Date\" col to \"Date\n",
    "    df.rename(columns={\"Run Date\": \"Date\",}, inplace=True)\n",
    "    \n",
    "    # Remove the Account number - .str is needed because it's working with a Series data type\n",
    "    df['Account'] = df['Account'].str.rsplit(' ', n=1).str[0]\n",
    "    \n",
    "    # Remap Action to only Dividend Received or Dividend Reinvestment. Special cases will map based on pos or neg amt\n",
    "    df['Action'] = df.apply(lambda row:  \n",
    "    DIVIDEND_RECEIVED if row[ACTION_COL].strip().startswith('DIVIDEND RECEIVED') else \n",
    "    DIVIDEND_REINVESTMENT if row[ACTION_COL].strip().startswith('REINVESTMENT')  else \n",
    "    DIVIDEND_RECEIVED if row[AMOUNT_COL] >= 0 else DIVIDEND_REINVESTMENT,\n",
    "                            axis=1)\n",
    "    \n",
    "    # Map Missing Symbol (i.e. Capital One rows) if missing - cell for C1 shows as empty string, not null\n",
    "    account_to_symbol_map = {\n",
    "        \"CAPITAL ONE 401K ASP\": \"COF\"\n",
    "    }\n",
    "    df[SYMBOL_COL] = df.apply(lambda row:\n",
    "                            account_to_symbol_map.get(row[ACCOUNT_COL].strip(), 'Cannot find symbol') if pd.isna(row[SYMBOL_COL]) \n",
    "                                                                                                         or pd.isnull(row[SYMBOL_COL]) or row[SYMBOL_COL] is None or row[SYMBOL_COL] == '' else row[SYMBOL_COL], axis=1\n",
    "                            )\n",
    "    # Add Provider Column to all rows\n",
    "    df[PROVIDER_COL] = \"Fidelity\"\n",
    "    \n",
    "    # Re-arrange columns\n",
    "    df = df[['Date', 'Provider', 'Account', 'Action', 'Symbol', 'Amount']]\n",
    "    \n",
    "    # Append to data\n",
    "    print(f\"Fidelity|{file_path[3:]}\")\n",
    "    return pd.concat([main_data, df], ignore_index=True)"
   ],
   "id": "5695b83f9f07c85a",
   "outputs": [],
   "execution_count": null
  },
  {
   "metadata": {},
   "cell_type": "markdown",
   "source": "## Merrill CSV PreProcessing Handler",
   "id": "1023ef2279321db1"
  },
  {
   "metadata": {},
   "cell_type": "code",
   "source": [
    "def preprocess_merrill(main_data: pd.DataFrame, fidelity_file_path: str) -> pd.DataFrame:\n",
    "    # Read in csv data with the inferred data type and specified columns\n",
    "    df = pd.read_csv(file_path)\n",
    "    df.columns = df.columns.str.strip()\n",
    "    \n",
    "    # Apply the converters after fixing headers\n",
    "    for column, converter in merrill_col_converters.items():\n",
    "        if column in df.columns:  # Check if the column exists in the DataFrame\n",
    "            df[column] = df[column].apply(converter)\n",
    "            \n",
    "    \n",
    "    # Rename \"Run Date\" col to \"Date\n",
    "    df.rename(columns={\"Trade Date\": DATE_COL, \"Symbol/ CUSIP\": SYMBOL_COL, \"Description\": ACTION_COL}, inplace=True)\n",
    "    \n",
    "    # Drop unneeded columns\n",
    "    df.drop(columns=['Settlement Date', 'Quantity', 'Price', 'Type'], inplace=True)\n",
    "    \n",
    "     # Remove the Account number - .str is needed because it's working with a Series data type\n",
    "    df[ACCOUNT_COL] = df[ACCOUNT_COL].str.rsplit(' ', n=1).str[0]\n",
    "    \n",
    "    # Remove $ from Amount and convert column to float\n",
    "    df[AMOUNT_COL] = df[AMOUNT_COL].replace({'\\$': ''}, regex=True).astype(float)\n",
    "    df[SYMBOL_COL] = df[SYMBOL_COL].str.strip()\n",
    "    \n",
    "    # Remap Action to only Dividend Received or Dividend Reinvestment. Special cases will map based on pos or neg amt\n",
    "    df[ACTION_COL] = df.apply(lambda row:  \n",
    "    DIVIDEND_RECEIVED if row[ACTION_COL].strip().startswith('Dividend') and row[AMOUNT_COL] >= 0 else \n",
    "    DIVIDEND_RECEIVED if row[ACTION_COL].strip().startswith('Bank Interest') and row[AMOUNT_COL] >= 0 else\n",
    "    DIVIDEND_REINVESTMENT , axis=1)\n",
    "    \n",
    "    # Add Provider Column to all rows\n",
    "    df[PROVIDER_COL] = 'Merrill'\n",
    "    \n",
    "    # Re-arrange columns\n",
    "    df = df[['Date', 'Provider', 'Account', 'Action', 'Symbol', 'Amount']]\n",
    "    \n",
    "    # Append to data\n",
    "    print(f\"Merrill|{file_path[3:]}\")\n",
    "    return pd.concat([main_data, df], ignore_index=True)"
   ],
   "id": "4214a5bb36700c80",
   "outputs": [],
   "execution_count": null
  },
  {
   "cell_type": "markdown",
   "id": "bcaa3729187a5cf1",
   "metadata": {},
   "source": [
    "## Read in CSV Files\n",
    "Read in the CSV files under `Data/Fidelity/Dividends` to combine into a single data frame for further processing.\n",
    "Clean up by removing the account no."
   ]
  },
  {
   "cell_type": "code",
   "id": "5b990815a02ce6e8",
   "metadata": {},
   "source": [
    "# Main Data frame, empty by default\n",
    "data = pd.DataFrame()\n",
    "\n",
    "for root, dirs, files in os.walk(base_path):\n",
    "    for file in files:\n",
    "        if 'Dividends' in root and '-Dividends.csv' in file:\n",
    "            file_path = os.path.join(root, file)\n",
    "            \n",
    "            if \"Fidelity\" in file_path:\n",
    "                data = preprocess_fidelity(data, file_path)\n",
    "            elif \"Merrill\" in file_path:\n",
    "                data = preprocess_merrill(data, file_path)\n",
    "            \n",
    "            \n",
    "            \n",
    "data = data.sort_values(by=DATE_COL, ascending=True)     \n",
    "print(data)"
   ],
   "outputs": [],
   "execution_count": null
  },
  {
   "cell_type": "markdown",
   "id": "77ba5b31f10fc78e",
   "metadata": {},
   "source": [
    "## Dividends Received Grouped By Run Date + Symbol\n",
    "Filter for only Dividends received and combine the amounts if matching date and symbol"
   ]
  },
  {
   "cell_type": "code",
   "id": "ba2765cf3968ef81",
   "metadata": {},
   "source": [
    "dividends_data = pd.DataFrame(data)\n",
    "dividends_received_by_symbol = dividends_data[dividends_data['Action'].str.contains('DIVIDEND RECEIVED', case=False, na=False)]\n",
    "\n",
    "dividends_received = (dividends_received_by_symbol\n",
    "                      .groupby(['Run Date', 'Symbol'], as_index=False)\n",
    "                      .sum())\n",
    "\n",
    "print(dividends_received[['Run Date', 'Symbol', 'Amount']])"
   ],
   "outputs": [],
   "execution_count": null
  },
  {
   "cell_type": "markdown",
   "id": "28fa9dccd2ab92e5",
   "metadata": {},
   "source": [
    "## Dividends Received Grouped By Run Date (Year-Month) + Account\n",
    "Filter for only Dividends received and combine the amounts if matching date and symbol"
   ]
  },
  {
   "cell_type": "code",
   "id": "1f6b9931d99f63cd",
   "metadata": {},
   "source": [
    "dividends_data = pd.DataFrame(data)\n",
    "# Copy was explicitly used to avoid the warning when adding the ''Year-Month' that it would affect the original\n",
    "dividends_received_by_account = dividends_data[dividends_data['Action'].str.contains('DIVIDEND RECEIVED', case=False, na=False)].copy()\n",
    "\n",
    "dividends_received_by_account.loc[:,'Year-Month'] = dividends_received_by_account['Run Date'].dt.to_period('M')\n",
    "\n",
    "dividends_received_by_account = (dividends_received_by_account\n",
    "                                 .groupby(['Year-Month', 'Account'], as_index=False)['Amount']\n",
    "                                 .sum())\n",
    "print(dividends_received_by_account[['Year-Month', 'Account', 'Amount']])\n"
   ],
   "outputs": [],
   "execution_count": null
  }
 ],
 "metadata": {
  "kernelspec": {
   "display_name": "Python 3",
   "language": "python",
   "name": "python3"
  },
  "language_info": {
   "codemirror_mode": {
    "name": "ipython",
    "version": 2
   },
   "file_extension": ".py",
   "mimetype": "text/x-python",
   "name": "python",
   "nbconvert_exporter": "python",
   "pygments_lexer": "ipython2",
   "version": "2.7.6"
  }
 },
 "nbformat": 4,
 "nbformat_minor": 5
}
