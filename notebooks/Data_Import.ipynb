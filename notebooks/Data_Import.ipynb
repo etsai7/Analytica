{
 "cells": [
  {
   "cell_type": "code",
   "execution_count": null,
   "id": "b8a5b8a8728f4ddb",
   "metadata": {},
   "outputs": [],
   "source": [
    "import os\n",
    "import pandas as pd\n",
    "\n",
    "# Configure width of display for pandas data frame\n",
    "pd.set_option('display.width', 400)\n",
    "# Configure maximum columns shown\n",
    "pd.set_option('display.max_columns', 15)\n",
    "# Do not limit number of rows displayed, allows scroll\n",
    "pd.set_option(\"display.max_rows\", None)\n",
    "\n",
    "# Create a folder called Data at the root of this project\n",
    "base_path = '../Data'\n",
    "column_converters = {'Date': pd.to_datetime,\n",
    "                     'Type': str,\n",
    "                     'Company': str,\n",
    "                     'Cost': float,\n",
    "                     'Venmo +': float,\n",
    "                     'Venmo -': float,\n",
    "                     'Pay': float,\n",
    "                     'Net': float\n",
    "                     }\n",
    "\n",
    "months = [\n",
    "    'Jan',  # January\n",
    "    'Feb',  # February\n",
    "    'Mar',  # March\n",
    "    'Apr',  # April\n",
    "    'May',  # May\n",
    "    'Jun',  # June\n",
    "    'Jul',  # July\n",
    "    'Aug',  # August\n",
    "    'Sep',  # September\n",
    "    'Oct',  # October\n",
    "    'Nov',  # November\n",
    "    'Dec'   # December\n",
    "]\n",
    "\n",
    "ignored_pivot_categories = [\n",
    "    'Pay'\n",
    "]"
   ]
  },
  {
   "cell_type": "markdown",
   "id": "141cf2f467183ae7",
   "metadata": {},
   "source": [
    "## Specifying Column Data Types\n",
    "The following are ways to set the specific data types.\n",
    "\n",
    "### Setting explicitly\n",
    "```python\n",
    "for column, dtype in column_converters.items():\n",
    "    if column in df.columns:\n",
    "        df[column] = df[column].astype(dtype)\n",
    "```\n",
    "\n",
    "### Setting by inference\n",
    "```python\n",
    "# Infer data types\n",
    "df_cleaned = df_cleaned.infer_objects(copy=False)\n",
    "```"
   ]
  },
  {
   "cell_type": "code",
   "execution_count": null,
   "id": "initial_id",
   "metadata": {},
   "outputs": [],
   "source": [
    "# Main Data frame, empty by default\n",
    "data = pd.DataFrame()\n",
    "\n",
    "for root, dirs, files in os.walk(base_path):\n",
    "    for file in files:\n",
    "        if 'Excel' in root and '_Expenses.xlsx' in file:\n",
    "            file_path = os.path.join(root, file)\n",
    "            # Read in the Excel file with specified sheet of the file\n",
    "            df_raw = pd.read_excel(file_path, sheet_name='Expenses', converters=column_converters, usecols=lambda col: col in column_converters.keys() )\n",
    "            df_cleaned = df_raw.dropna(subset=['Type', 'Company'])\n",
    "            \n",
    "            # Infer data types\n",
    "            df_cleaned = df_cleaned.infer_objects(copy=False)\n",
    "            # Replace all empty cells with 0\n",
    "            df_cleaned.fillna(0, inplace=True)\n",
    "            \n",
    "            data = pd.concat([data, df_cleaned], ignore_index=True)\n",
    "            print(file_path)"
   ]
  },
  {
   "cell_type": "code",
   "execution_count": null,
   "id": "5decafc0fe242b08",
   "metadata": {},
   "outputs": [],
   "source": [
    "# Print consolidated Data\n",
    "print(data)"
   ]
  },
  {
   "cell_type": "code",
   "execution_count": null,
   "id": "c4b3930fca914c",
   "metadata": {},
   "outputs": [],
   "source": [
    "# Creating Pivot Table, where row is categories and column is by month. Cell is summed value of that category for the month\n",
    "pivot_df = pd.DataFrame(data)\n",
    "pivot_df['Date'] = pd.to_datetime(pivot_df['Date'])  # Ensure Date column is in datetime format\n",
    "\n",
    "# Adding Year and Month columns\n",
    "pivot_df['Year'] = pivot_df['Date'].dt.year\n",
    "pivot_df['Month'] = pivot_df['Date'].dt.to_period('M') # i.e. 2022-03\n",
    "pivot_df['Month'] = pivot_df['Month'].dt.strftime('%B') # i.e. \"January\"\n",
    "pivot_df['Month'] = pivot_df['Month'].str[:3] # i.e. \"Jan\"\n",
    "pivot_df['Month'] = pd.Categorical(pivot_df['Month'], categories=months, ordered=True) # Order by given calendar months defined above\n",
    "\n",
    "# Group by Type, Year, and Month and sum the Net column\n",
    "pivot_df = pivot_df.groupby(['Type', 'Year', 'Month'], observed=True)['Net'].sum().reset_index()\n",
    "print(pivot_df)\n",
    "\n",
    "# Create Pivot Table\n",
    "pivot_table = pivot_df.pivot_table(index='Type', columns=['Year', 'Month'], values='Net', fill_value=0, observed=True)\n",
    "# print(pivot_table)"
   ]
  },
  {
   "cell_type": "code",
   "execution_count": null,
   "id": "ea0dad72359c30e3",
   "metadata": {},
   "outputs": [],
   "source": [
    "# Create separate DataFrames for each year if needed\n",
    "for year in pivot_df['Year'].unique():\n",
    "    # Extract data for the specific year\n",
    "    year_df = pivot_table.xs(year, level=0, axis=1)  \n",
    "    print(f\"\\nPivot Table for {year}:\\n\", year_df)"
   ]
  },
  {
   "cell_type": "code",
   "execution_count": null,
   "id": "87147f07de6e2553",
   "metadata": {},
   "outputs": [],
   "source": [
    "# Adding sum per category (column) and per month (row)\n",
    "\n",
    "for year in pivot_df['Year'].unique():\n",
    "    # Extract data for the specific year\n",
    "    pivot_table_slice = pivot_table.xs(year, level=0, axis=1)  \n",
    "    # Make a copy to avoid warning that you may or may not be modifying the original dataframe\n",
    "    year_pivot_table = pivot_table_slice.copy() \n",
    "    # Drop certain categories\n",
    "    year_pivot_table = year_pivot_table.drop(index=ignored_pivot_categories) \n",
    "    \n",
    "    # Add a column that sums each row\n",
    "    year_pivot_table.loc[:, 'Total'] = year_pivot_table.sum(axis=1)\n",
    "    \n",
    "    # Add a row at the bottom that sums each month\n",
    "    monthly_sum = year_pivot_table.sum(axis=0).to_frame().T\n",
    "    monthly_sum.index = ['Monthly Total']\n",
    "    year_pivot_table = pd.concat([year_pivot_table, monthly_sum])\n",
    "    \n",
    "    # Drop Categories whose sum is 0, but not the Monthly Total\n",
    "    year_pivot_table = year_pivot_table[(year_pivot_table['Total'] != 0) | (year_pivot_table.index == 'Monthly Total')]\n",
    "    \n",
    "    print(f\"\\nPivot Table for {year}:\\n\", year_pivot_table)"
   ]
  }
 ],
 "metadata": {
  "kernelspec": {
   "display_name": "Python 3",
   "language": "python",
   "name": "python3"
  },
  "language_info": {
   "codemirror_mode": {
    "name": "ipython",
    "version": 2
   },
   "file_extension": ".py",
   "mimetype": "text/x-python",
   "name": "python",
   "nbconvert_exporter": "python",
   "pygments_lexer": "ipython2",
   "version": "2.7.6"
  }
 },
 "nbformat": 4,
 "nbformat_minor": 5
}
